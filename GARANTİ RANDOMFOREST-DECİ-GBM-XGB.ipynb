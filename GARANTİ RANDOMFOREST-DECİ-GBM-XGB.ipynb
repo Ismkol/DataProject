{
 "cells": [
  {
   "cell_type": "markdown",
   "id": "86a3dc7d",
   "metadata": {
    "id": "Pqno6PT5KGx_",
    "papermill": {
     "duration": 0.011938,
     "end_time": "2023-02-21T08:19:59.740364",
     "exception": false,
     "start_time": "2023-02-21T08:19:59.728426",
     "status": "completed"
    },
    "tags": []
   },
   "source": [
    "**IMPORT LIBRARY**"
   ]
  },
  {
   "cell_type": "code",
   "execution_count": 22,
   "id": "db719dd7",
   "metadata": {
    "execution": {
     "iopub.execute_input": "2023-02-21T08:19:59.757898Z",
     "iopub.status.busy": "2023-02-21T08:19:59.756374Z",
     "iopub.status.idle": "2023-02-21T08:20:00.917240Z",
     "shell.execute_reply": "2023-02-21T08:20:00.915899Z"
    },
    "id": "F9OYBZefB3sH",
    "papermill": {
     "duration": 1.172728,
     "end_time": "2023-02-21T08:20:00.920458",
     "exception": false,
     "start_time": "2023-02-21T08:19:59.747730",
     "status": "completed"
    },
    "tags": []
   },
   "outputs": [],
   "source": [
    "import os\n",
    "import numpy as np\n",
    "import pandas as pd\n",
    "\n",
    "from sklearn.model_selection import KFold\n",
    "from sklearn.model_selection import cross_val_score\n",
    "from sklearn.ensemble import RandomForestClassifier\n",
    "root = \"C:\\\\Users\\ismmk\\data\\grantibbva\"\n",
    "USER_ID = 'user_id' \n",
    "TARGET = 'moved_after_2019'"
   ]
  },
  {
   "cell_type": "markdown",
   "id": "711a9845",
   "metadata": {
    "id": "TH3ZGoy4K5I5",
    "papermill": {
     "duration": 0.006776,
     "end_time": "2023-02-21T08:20:00.935656",
     "exception": false,
     "start_time": "2023-02-21T08:20:00.928880",
     "status": "completed"
    },
    "tags": []
   },
   "source": [
    "**IMPORT DATASETS**"
   ]
  },
  {
   "cell_type": "code",
   "execution_count": 23,
   "id": "a462e79d",
   "metadata": {
    "execution": {
     "iopub.execute_input": "2023-02-21T08:20:00.951897Z",
     "iopub.status.busy": "2023-02-21T08:20:00.951459Z",
     "iopub.status.idle": "2023-02-21T08:20:02.493849Z",
     "shell.execute_reply": "2023-02-21T08:20:02.492570Z"
    },
    "id": "NmA7ArvsItYF",
    "papermill": {
     "duration": 1.554297,
     "end_time": "2023-02-21T08:20:02.497033",
     "exception": false,
     "start_time": "2023-02-21T08:20:00.942736",
     "status": "completed"
    },
    "tags": []
   },
   "outputs": [],
   "source": [
    "df_skills = pd.read_csv(\"data/skills.csv\")\n",
    "df_education = pd.read_csv('data/education.csv')\n",
    "df_languages = pd.read_csv('data/languages.csv')\n",
    "df_work_experiences = pd.read_csv('data/work_experiences.csv')"
   ]
  },
  {
   "cell_type": "markdown",
   "id": "b9e8e2c4",
   "metadata": {
    "id": "u0_vx2KoB3sN",
    "papermill": {
     "duration": 0.006591,
     "end_time": "2023-02-21T08:20:02.510652",
     "exception": false,
     "start_time": "2023-02-21T08:20:02.504061",
     "status": "completed"
    },
    "tags": []
   },
   "source": [
    "###  Language"
   ]
  },
  {
   "cell_type": "code",
   "execution_count": 3,
   "id": "bab81d13",
   "metadata": {},
   "outputs": [],
   "source": [
    "df_work_experiences = df_work_experiences[df_work_experiences['start_year_month'] < 201901] "
   ]
  },
  {
   "cell_type": "code",
   "execution_count": 4,
   "id": "126570c1",
   "metadata": {
    "execution": {
     "iopub.execute_input": "2023-02-21T08:20:02.526433Z",
     "iopub.status.busy": "2023-02-21T08:20:02.525979Z",
     "iopub.status.idle": "2023-02-21T08:20:02.551940Z",
     "shell.execute_reply": "2023-02-21T08:20:02.550690Z"
    },
    "id": "A-bc1mOtB3sO",
    "papermill": {
     "duration": 0.037299,
     "end_time": "2023-02-21T08:20:02.554930",
     "exception": false,
     "start_time": "2023-02-21T08:20:02.517631",
     "status": "completed"
    },
    "tags": []
   },
   "outputs": [],
   "source": [
    "df_languages = df_languages[df_languages['language'].notnull() & df_languages['proficiency'].notnull()]"
   ]
  },
  {
   "cell_type": "code",
   "execution_count": 5,
   "id": "01180c64",
   "metadata": {
    "execution": {
     "iopub.execute_input": "2023-02-21T08:20:02.571209Z",
     "iopub.status.busy": "2023-02-21T08:20:02.570751Z",
     "iopub.status.idle": "2023-02-21T08:20:02.612535Z",
     "shell.execute_reply": "2023-02-21T08:20:02.611249Z"
    },
    "id": "NURhX7JEB3sO",
    "papermill": {
     "duration": 0.053384,
     "end_time": "2023-02-21T08:20:02.615463",
     "exception": false,
     "start_time": "2023-02-21T08:20:02.562079",
     "status": "completed"
    },
    "tags": []
   },
   "outputs": [],
   "source": [
    "#df_languages.loc = df_languages.applymap(lambda x: encode_proficiency(x))\n",
    "\n",
    "def encode_proficiency(value):\n",
    "    if value == 'elementary':\n",
    "        return 1\n",
    "    elif value == 'limited_working':\n",
    "        return 2\n",
    "    elif value == 'professional_working':\n",
    "        return 3\n",
    "    elif value == 'full_professional':\n",
    "        return 4\n",
    "    elif value == 'native_or_bilingual':\n",
    "        return 5\n",
    "    else:\n",
    "        return 0\n",
    "    \n",
    "df_languages['proficiency'] = df_languages['proficiency'].apply(encode_proficiency)"
   ]
  },
  {
   "cell_type": "code",
   "execution_count": 6,
   "id": "4c4bb160",
   "metadata": {
    "execution": {
     "iopub.execute_input": "2023-02-21T08:20:02.631704Z",
     "iopub.status.busy": "2023-02-21T08:20:02.631232Z",
     "iopub.status.idle": "2023-02-21T08:20:02.652068Z",
     "shell.execute_reply": "2023-02-21T08:20:02.650730Z"
    },
    "id": "x-Kud4gzA2yp",
    "outputId": "16a90fb5-79eb-4b7f-c42f-e7f30449c6b9",
    "papermill": {
     "duration": 0.03271,
     "end_time": "2023-02-21T08:20:02.655468",
     "exception": false,
     "start_time": "2023-02-21T08:20:02.622758",
     "status": "completed"
    },
    "tags": []
   },
   "outputs": [
    {
     "data": {
      "text/html": [
       "<div>\n",
       "<style scoped>\n",
       "    .dataframe tbody tr th:only-of-type {\n",
       "        vertical-align: middle;\n",
       "    }\n",
       "\n",
       "    .dataframe tbody tr th {\n",
       "        vertical-align: top;\n",
       "    }\n",
       "\n",
       "    .dataframe thead th {\n",
       "        text-align: right;\n",
       "    }\n",
       "</style>\n",
       "<table border=\"1\" class=\"dataframe\">\n",
       "  <thead>\n",
       "    <tr style=\"text-align: right;\">\n",
       "      <th></th>\n",
       "      <th>user_id</th>\n",
       "      <th>language</th>\n",
       "      <th>proficiency</th>\n",
       "    </tr>\n",
       "  </thead>\n",
       "  <tbody>\n",
       "    <tr>\n",
       "      <th>0</th>\n",
       "      <td>8</td>\n",
       "      <td>İngilizce</td>\n",
       "      <td>4</td>\n",
       "    </tr>\n",
       "    <tr>\n",
       "      <th>1</th>\n",
       "      <td>8</td>\n",
       "      <td>Türkçe</td>\n",
       "      <td>5</td>\n",
       "    </tr>\n",
       "    <tr>\n",
       "      <th>2</th>\n",
       "      <td>8</td>\n",
       "      <td>Fransızca</td>\n",
       "      <td>1</td>\n",
       "    </tr>\n",
       "    <tr>\n",
       "      <th>4</th>\n",
       "      <td>11</td>\n",
       "      <td>Turkish</td>\n",
       "      <td>5</td>\n",
       "    </tr>\n",
       "    <tr>\n",
       "      <th>5</th>\n",
       "      <td>11</td>\n",
       "      <td>English</td>\n",
       "      <td>3</td>\n",
       "    </tr>\n",
       "    <tr>\n",
       "      <th>...</th>\n",
       "      <td>...</td>\n",
       "      <td>...</td>\n",
       "      <td>...</td>\n",
       "    </tr>\n",
       "    <tr>\n",
       "      <th>76054</th>\n",
       "      <td>66262</td>\n",
       "      <td>English</td>\n",
       "      <td>4</td>\n",
       "    </tr>\n",
       "    <tr>\n",
       "      <th>76058</th>\n",
       "      <td>66272</td>\n",
       "      <td>English</td>\n",
       "      <td>3</td>\n",
       "    </tr>\n",
       "    <tr>\n",
       "      <th>76059</th>\n",
       "      <td>66273</td>\n",
       "      <td>Türkçe</td>\n",
       "      <td>5</td>\n",
       "    </tr>\n",
       "    <tr>\n",
       "      <th>76060</th>\n",
       "      <td>66273</td>\n",
       "      <td>İngilizce</td>\n",
       "      <td>3</td>\n",
       "    </tr>\n",
       "    <tr>\n",
       "      <th>76061</th>\n",
       "      <td>66273</td>\n",
       "      <td>Almanca</td>\n",
       "      <td>1</td>\n",
       "    </tr>\n",
       "  </tbody>\n",
       "</table>\n",
       "<p>65401 rows × 3 columns</p>\n",
       "</div>"
      ],
      "text/plain": [
       "       user_id   language  proficiency\n",
       "0            8  İngilizce            4\n",
       "1            8     Türkçe            5\n",
       "2            8  Fransızca            1\n",
       "4           11    Turkish            5\n",
       "5           11    English            3\n",
       "...        ...        ...          ...\n",
       "76054    66262    English            4\n",
       "76058    66272    English            3\n",
       "76059    66273     Türkçe            5\n",
       "76060    66273  İngilizce            3\n",
       "76061    66273    Almanca            1\n",
       "\n",
       "[65401 rows x 3 columns]"
      ]
     },
     "execution_count": 6,
     "metadata": {},
     "output_type": "execute_result"
    }
   ],
   "source": [
    "df_languages"
   ]
  },
  {
   "cell_type": "code",
   "execution_count": 7,
   "id": "de686a44",
   "metadata": {
    "execution": {
     "iopub.execute_input": "2023-02-21T08:20:02.672063Z",
     "iopub.status.busy": "2023-02-21T08:20:02.671628Z",
     "iopub.status.idle": "2023-02-21T08:20:02.687765Z",
     "shell.execute_reply": "2023-02-21T08:20:02.686700Z"
    },
    "id": "SsKOLcwUys2N",
    "outputId": "1e612d70-dd77-44bb-a40b-e384afd90299",
    "papermill": {
     "duration": 0.027543,
     "end_time": "2023-02-21T08:20:02.690412",
     "exception": false,
     "start_time": "2023-02-21T08:20:02.662869",
     "status": "completed"
    },
    "tags": []
   },
   "outputs": [
    {
     "data": {
      "text/plain": [
       "İngilizce                              17029\n",
       "English                                12253\n",
       "Türkçe                                 11925\n",
       "Turkish                                 7625\n",
       "Almanca                                 3492\n",
       "German                                  2888\n",
       "French                                   855\n",
       "İspanyolca                               813\n",
       "Spanish                                  796\n",
       "Fransızca                                705\n",
       "Rusça                                    498\n",
       "Russian                                  485\n",
       "Arabic                                   468\n",
       "ingilizce                                428\n",
       "Arapça                                   333\n",
       "Italian                                  322\n",
       "İtalyanca                                308\n",
       "Japanese                                 257\n",
       "İngilizce, Orta (1100-1500)              196\n",
       "Deutsch                                  196\n",
       "Japonca                                  150\n",
       "İngilizce                                144\n",
       "Azerbaijani                              140\n",
       "Türkçe, Osmanlıca (1500-1928)            117\n",
       "Chinese                                   93\n",
       "İngilizce, Eski (yaklaşık 450-1100)       89\n",
       "Persian                                   84\n",
       "Korece                                    75\n",
       "Kurdish                                   67\n",
       "Korean                                    66\n",
       "Çince                                     66\n",
       "Dutch                                     62\n",
       "Azerice                                   61\n",
       "Lehçe                                     61\n",
       "Urdu                                      59\n",
       "Bulgarian                                 56\n",
       "Ingilizce                                 54\n",
       "Greek                                     54\n",
       "Kürtçe                                    47\n",
       "Polish                                    43\n",
       "Bulgarca                                  40\n",
       "Portuguese                                38\n",
       "Swedish                                   38\n",
       "Albanian                                  36\n",
       "Español                                   34\n",
       "Latince                                   34\n",
       "Turkmen                                   33\n",
       "Germany                                   32\n",
       "English                                   30\n",
       "Portekizce                                30\n",
       "Français                                  29\n",
       "english                                   28\n",
       "Armenian                                  28\n",
       "Turkish, Ottoman (1500-1928)              27\n",
       "Kazakh                                    27\n",
       "Sırpça                                    26\n",
       "Boşnakça                                  25\n",
       "Farsça                                    24\n",
       "Sign Languages                            23\n",
       "Türkisch                                  22\n",
       "Name: language, dtype: int64"
      ]
     },
     "execution_count": 7,
     "metadata": {},
     "output_type": "execute_result"
    }
   ],
   "source": [
    "df_languages.language.value_counts().head(60)"
   ]
  },
  {
   "cell_type": "code",
   "execution_count": 8,
   "id": "89e8f027",
   "metadata": {
    "execution": {
     "iopub.execute_input": "2023-02-21T08:20:02.708161Z",
     "iopub.status.busy": "2023-02-21T08:20:02.707670Z",
     "iopub.status.idle": "2023-02-21T08:20:03.157512Z",
     "shell.execute_reply": "2023-02-21T08:20:03.156535Z"
    },
    "id": "YZDPXVlDB3sO",
    "papermill": {
     "duration": 0.46244,
     "end_time": "2023-02-21T08:20:03.160479",
     "exception": false,
     "start_time": "2023-02-21T08:20:02.698039",
     "status": "completed"
    },
    "tags": []
   },
   "outputs": [],
   "source": [
    "df_languages.loc[df_languages['language'].str.contains(\"Eng|eng|İng|ing|Ing|English|english|İngilizce|ingilizce|Ingilizce|İNGİLİZCE|INGILIZCE\"), 'language'] = \"English\"\n",
    "df_languages.loc[df_languages['language'].str.contains(\"Tür|Tur|tür|tur|TURKISH|TÜRKÇE|Tükçe|tr\"), 'language'] = \"Turkish\"\n",
    "df_languages.loc[df_languages['language'].str.contains(\"Alm|alm|ger|Ger|Deu|deu|ALMANCA|GER|DEU|ALM\"), 'language'] = \"German\"\n",
    "df_languages.loc[df_languages['language'].str.contains(\"Fr|fr|FR\"), 'language'] = \"French\"\n",
    "df_languages.loc[df_languages['language'].str.contains(\"Spa|spa|İsp|isp|SPA|ISP|İSP|Español\"), 'language'] = \"Spanish\"\n",
    "df_languages.loc[df_languages['language'].str.contains(\"Rus|rus|RUS\"), 'language'] = \"Russian\"\n",
    "df_languages.loc[df_languages['language'].str.contains(\"ara|Ara|ARA\"), 'language'] = \"Arabic\" \n",
    "df_languages.loc[df_languages['language'].str.contains(\"Chinese|CHINESE|CHI|Chi|chi|Çince\"), 'language'] = \"Chinese\"\n",
    "df_languages.loc[df_languages['language'].str.contains(\"Japanese|Japonca|japa|japo|JAPA|JAPO\"), 'language'] = \"Japanese\"\n",
    "df_languages.loc[df_languages['language'].str.contains(\"İtalyanca|Italian|itali|ital|ITA|İTAL\"), 'language'] = \"Italian\"\n",
    "df_languages.loc[df_languages['language'].str.contains(\"Azerice|Azerbaijani|Azeri|Azərba\"), 'language'] = \"Azerbaijani\"\n",
    "df_languages.loc[df_languages['language'].str.contains(\"Kurdish|Kürt|kürtçe|kurdish\"), 'language'] = \"kurdish\"\n",
    "df_languages.loc[df_languages['language'].str.contains(\"Portekizce|Portuguese|por|POR\"), 'language'] = \"Portuguese\"\n",
    "df_languages.loc[df_languages['language'].str.contains(\"korece|Korean|kor|KOR|KORECE|KOREAN|Korece\"), 'language'] = \"Korean\"\n",
    "\n",
    "df_languages.loc[~df_languages[\"language\"].isin([\"English\",\"Turkish\",\"German\",\"French\",\"Spanish\",\"Russian\",\"Arabic\",\"Korean\",\"Chinese\",\"Japanese\",\"Italian\",\"Azerbaijani\",\"kurdish\",\"Portuguese\"]), \"language\"] = \"OtherLanguage\""
   ]
  },
  {
   "cell_type": "code",
   "execution_count": 9,
   "id": "b2a613fe",
   "metadata": {
    "execution": {
     "iopub.execute_input": "2023-02-21T08:20:03.177026Z",
     "iopub.status.busy": "2023-02-21T08:20:03.176608Z",
     "iopub.status.idle": "2023-02-21T08:20:03.188494Z",
     "shell.execute_reply": "2023-02-21T08:20:03.187452Z"
    },
    "id": "nYPNKjLIzjGF",
    "outputId": "6423764f-d680-43fe-c132-fecc9aa07e02",
    "papermill": {
     "duration": 0.023311,
     "end_time": "2023-02-21T08:20:03.191157",
     "exception": false,
     "start_time": "2023-02-21T08:20:03.167846",
     "status": "completed"
    },
    "tags": []
   },
   "outputs": [
    {
     "data": {
      "text/plain": [
       "English          30442\n",
       "Turkish          19864\n",
       "German            6686\n",
       "Spanish           1674\n",
       "French            1610\n",
       "OtherLanguage     1525\n",
       "Russian           1001\n",
       "Arabic             829\n",
       "Italian            654\n",
       "Japanese           409\n",
       "Azerbaijani        204\n",
       "Chinese            176\n",
       "Korean             141\n",
       "kurdish            114\n",
       "Portuguese          72\n",
       "Name: language, dtype: int64"
      ]
     },
     "execution_count": 9,
     "metadata": {},
     "output_type": "execute_result"
    }
   ],
   "source": [
    "df_languages.language.value_counts().head(50)"
   ]
  },
  {
   "cell_type": "code",
   "execution_count": null,
   "id": "b5836ba3",
   "metadata": {},
   "outputs": [],
   "source": []
  },
  {
   "cell_type": "code",
   "execution_count": 10,
   "id": "c56ec97e",
   "metadata": {
    "execution": {
     "iopub.execute_input": "2023-02-21T08:20:03.208520Z",
     "iopub.status.busy": "2023-02-21T08:20:03.208084Z",
     "iopub.status.idle": "2023-02-21T08:20:03.292529Z",
     "shell.execute_reply": "2023-02-21T08:20:03.290821Z"
    },
    "id": "6VveuS0OB3sP",
    "outputId": "32a5a998-8f4a-4e8d-fde3-61c9c7ceb136",
    "papermill": {
     "duration": 0.098615,
     "end_time": "2023-02-21T08:20:03.297334",
     "exception": false,
     "start_time": "2023-02-21T08:20:03.198719",
     "status": "completed"
    },
    "tags": []
   },
   "outputs": [
    {
     "data": {
      "text/html": [
       "<div>\n",
       "<style scoped>\n",
       "    .dataframe tbody tr th:only-of-type {\n",
       "        vertical-align: middle;\n",
       "    }\n",
       "\n",
       "    .dataframe tbody tr th {\n",
       "        vertical-align: top;\n",
       "    }\n",
       "\n",
       "    .dataframe thead th {\n",
       "        text-align: right;\n",
       "    }\n",
       "</style>\n",
       "<table border=\"1\" class=\"dataframe\">\n",
       "  <thead>\n",
       "    <tr style=\"text-align: right;\">\n",
       "      <th>language</th>\n",
       "      <th>Arabic</th>\n",
       "      <th>Azerbaijani</th>\n",
       "      <th>Chinese</th>\n",
       "      <th>English</th>\n",
       "      <th>French</th>\n",
       "      <th>German</th>\n",
       "      <th>Italian</th>\n",
       "      <th>Japanese</th>\n",
       "      <th>Korean</th>\n",
       "      <th>OtherLanguage</th>\n",
       "      <th>Portuguese</th>\n",
       "      <th>Russian</th>\n",
       "      <th>Spanish</th>\n",
       "      <th>Turkish</th>\n",
       "      <th>kurdish</th>\n",
       "    </tr>\n",
       "    <tr>\n",
       "      <th>user_id</th>\n",
       "      <th></th>\n",
       "      <th></th>\n",
       "      <th></th>\n",
       "      <th></th>\n",
       "      <th></th>\n",
       "      <th></th>\n",
       "      <th></th>\n",
       "      <th></th>\n",
       "      <th></th>\n",
       "      <th></th>\n",
       "      <th></th>\n",
       "      <th></th>\n",
       "      <th></th>\n",
       "      <th></th>\n",
       "      <th></th>\n",
       "    </tr>\n",
       "  </thead>\n",
       "  <tbody>\n",
       "    <tr>\n",
       "      <th>8</th>\n",
       "      <td>0</td>\n",
       "      <td>0</td>\n",
       "      <td>0</td>\n",
       "      <td>4</td>\n",
       "      <td>1</td>\n",
       "      <td>0</td>\n",
       "      <td>0</td>\n",
       "      <td>0</td>\n",
       "      <td>0</td>\n",
       "      <td>0</td>\n",
       "      <td>0</td>\n",
       "      <td>0</td>\n",
       "      <td>0</td>\n",
       "      <td>5</td>\n",
       "      <td>0</td>\n",
       "    </tr>\n",
       "    <tr>\n",
       "      <th>11</th>\n",
       "      <td>0</td>\n",
       "      <td>0</td>\n",
       "      <td>0</td>\n",
       "      <td>3</td>\n",
       "      <td>0</td>\n",
       "      <td>0</td>\n",
       "      <td>0</td>\n",
       "      <td>0</td>\n",
       "      <td>0</td>\n",
       "      <td>0</td>\n",
       "      <td>0</td>\n",
       "      <td>0</td>\n",
       "      <td>0</td>\n",
       "      <td>5</td>\n",
       "      <td>5</td>\n",
       "    </tr>\n",
       "    <tr>\n",
       "      <th>12</th>\n",
       "      <td>0</td>\n",
       "      <td>0</td>\n",
       "      <td>0</td>\n",
       "      <td>3</td>\n",
       "      <td>0</td>\n",
       "      <td>0</td>\n",
       "      <td>0</td>\n",
       "      <td>0</td>\n",
       "      <td>0</td>\n",
       "      <td>0</td>\n",
       "      <td>0</td>\n",
       "      <td>0</td>\n",
       "      <td>0</td>\n",
       "      <td>5</td>\n",
       "      <td>0</td>\n",
       "    </tr>\n",
       "    <tr>\n",
       "      <th>13</th>\n",
       "      <td>0</td>\n",
       "      <td>0</td>\n",
       "      <td>0</td>\n",
       "      <td>4</td>\n",
       "      <td>0</td>\n",
       "      <td>2</td>\n",
       "      <td>0</td>\n",
       "      <td>0</td>\n",
       "      <td>0</td>\n",
       "      <td>0</td>\n",
       "      <td>0</td>\n",
       "      <td>0</td>\n",
       "      <td>0</td>\n",
       "      <td>0</td>\n",
       "      <td>0</td>\n",
       "    </tr>\n",
       "    <tr>\n",
       "      <th>14</th>\n",
       "      <td>0</td>\n",
       "      <td>0</td>\n",
       "      <td>0</td>\n",
       "      <td>3</td>\n",
       "      <td>0</td>\n",
       "      <td>0</td>\n",
       "      <td>0</td>\n",
       "      <td>0</td>\n",
       "      <td>0</td>\n",
       "      <td>0</td>\n",
       "      <td>0</td>\n",
       "      <td>0</td>\n",
       "      <td>0</td>\n",
       "      <td>5</td>\n",
       "      <td>0</td>\n",
       "    </tr>\n",
       "  </tbody>\n",
       "</table>\n",
       "</div>"
      ],
      "text/plain": [
       "language  Arabic  Azerbaijani  Chinese  English  French  German  Italian  \\\n",
       "user_id                                                                    \n",
       "8              0            0        0        4       1       0        0   \n",
       "11             0            0        0        3       0       0        0   \n",
       "12             0            0        0        3       0       0        0   \n",
       "13             0            0        0        4       0       2        0   \n",
       "14             0            0        0        3       0       0        0   \n",
       "\n",
       "language  Japanese  Korean  OtherLanguage  Portuguese  Russian  Spanish  \\\n",
       "user_id                                                                   \n",
       "8                0       0              0           0        0        0   \n",
       "11               0       0              0           0        0        0   \n",
       "12               0       0              0           0        0        0   \n",
       "13               0       0              0           0        0        0   \n",
       "14               0       0              0           0        0        0   \n",
       "\n",
       "language  Turkish  kurdish  \n",
       "user_id                     \n",
       "8               5        0  \n",
       "11              5        5  \n",
       "12              5        0  \n",
       "13              0        0  \n",
       "14              5        0  "
      ]
     },
     "execution_count": 10,
     "metadata": {},
     "output_type": "execute_result"
    }
   ],
   "source": [
    "df_languages = df_languages.drop_duplicates(['user_id', 'language'])\n",
    "df_languages = pd.pivot(df_languages, index='user_id', columns='language', values='proficiency')\n",
    "df_languages = df_languages.fillna(0).astype(int)\n",
    "df_languages.head()"
   ]
  },
  {
   "cell_type": "markdown",
   "id": "e587bc16",
   "metadata": {
    "id": "nNMUbTdLB3sK",
    "papermill": {
     "duration": 0.008491,
     "end_time": "2023-02-21T08:20:03.318319",
     "exception": false,
     "start_time": "2023-02-21T08:20:03.309828",
     "status": "completed"
    },
    "tags": []
   },
   "source": [
    "###  Education"
   ]
  },
  {
   "cell_type": "code",
   "execution_count": 11,
   "id": "560409a2",
   "metadata": {
    "execution": {
     "iopub.execute_input": "2023-02-21T08:20:03.339200Z",
     "iopub.status.busy": "2023-02-21T08:20:03.337950Z",
     "iopub.status.idle": "2023-02-21T08:20:03.375350Z",
     "shell.execute_reply": "2023-02-21T08:20:03.374227Z"
    },
    "id": "jGQvhysjB3sL",
    "papermill": {
     "duration": 0.052174,
     "end_time": "2023-02-21T08:20:03.378506",
     "exception": false,
     "start_time": "2023-02-21T08:20:03.326332",
     "status": "completed"
    },
    "tags": []
   },
   "outputs": [],
   "source": [
    "df_education = df_education[df_education['school_name'].notnull() & df_education['degree'].notnull()]"
   ]
  },
  {
   "cell_type": "code",
   "execution_count": 12,
   "id": "ed4f54d4",
   "metadata": {
    "execution": {
     "iopub.execute_input": "2023-02-21T08:20:03.396328Z",
     "iopub.status.busy": "2023-02-21T08:20:03.395855Z",
     "iopub.status.idle": "2023-02-21T08:20:03.708694Z",
     "shell.execute_reply": "2023-02-21T08:20:03.707783Z"
    },
    "id": "WgeBZ-FsB3sM",
    "papermill": {
     "duration": 0.324965,
     "end_time": "2023-02-21T08:20:03.711490",
     "exception": false,
     "start_time": "2023-02-21T08:20:03.386525",
     "status": "completed"
    },
    "tags": []
   },
   "outputs": [],
   "source": [
    "df_education.loc[df_education['degree'].str.contains(\"Associate|Ön|ön lisans|önlisans\", na=False), 'degree'] = \"ÖNLİSANS\"\n",
    "df_education.loc[df_education['degree'].str.contains(\"Doctor|Doktor|Ph\", na=False), 'degree'] = \"DOKTORA\"\n",
    "df_education.loc[df_education['degree'].str.contains(\"Yüksek|Master|MSc|MS|M.Sc.|MBA|Msc|M.Sc|M.S.|M.S\", na=False), 'degree'] = \"YÜKSEK_LİSANS\"\n",
    "df_education.loc[df_education['degree'].str.contains(\"BS|Bs|Bachelor|BSc|BE|B.E.|B.Sc.|B.S.|B.S|Engineer|BA|BBA|BEng|B.B.A.|B.A.Sc.|Undergraduate|Licentiate|Licence|License|Lisans|lisans|Bacheleer|bachelor|Bsc\", na=False), 'degree'] = \"LİSANS\"\n",
    "\n",
    "df_education.loc[~df_education[\"degree\"].isin([\"ÖNLİSANS\",\"DOKTORA\",\"YÜKSEK_LİSANS\",\"LİSANS\"]), \"degree\"] = \"Diğer\""
   ]
  },
  {
   "cell_type": "code",
   "execution_count": null,
   "id": "79965f7e",
   "metadata": {
    "execution": {
     "iopub.execute_input": "2023-02-21T08:20:03.745029Z",
     "iopub.status.busy": "2023-02-21T08:20:03.743794Z",
     "iopub.status.idle": "2023-02-21T08:20:04.129940Z",
     "shell.execute_reply": "2023-02-21T08:20:04.128677Z"
    },
    "id": "Ztfl51Q2FjAc",
    "papermill": {
     "duration": 0.398369,
     "end_time": "2023-02-21T08:20:04.133002",
     "exception": false,
     "start_time": "2023-02-21T08:20:03.734633",
     "status": "completed"
    },
    "tags": []
   },
   "outputs": [],
   "source": []
  },
  {
   "cell_type": "code",
   "execution_count": 13,
   "id": "e68fa8bd",
   "metadata": {
    "execution": {
     "iopub.execute_input": "2023-02-21T08:20:04.151215Z",
     "iopub.status.busy": "2023-02-21T08:20:04.150032Z",
     "iopub.status.idle": "2023-02-21T08:20:04.235193Z",
     "shell.execute_reply": "2023-02-21T08:20:04.233890Z"
    },
    "id": "w6TG5TwsB3sM",
    "outputId": "1967788c-da51-49bb-9eff-7c53d154c931",
    "papermill": {
     "duration": 0.097381,
     "end_time": "2023-02-21T08:20:04.238070",
     "exception": false,
     "start_time": "2023-02-21T08:20:04.140689",
     "status": "completed"
    },
    "tags": []
   },
   "outputs": [
    {
     "data": {
      "text/html": [
       "<div>\n",
       "<style scoped>\n",
       "    .dataframe tbody tr th:only-of-type {\n",
       "        vertical-align: middle;\n",
       "    }\n",
       "\n",
       "    .dataframe tbody tr th {\n",
       "        vertical-align: top;\n",
       "    }\n",
       "\n",
       "    .dataframe thead th {\n",
       "        text-align: right;\n",
       "    }\n",
       "</style>\n",
       "<table border=\"1\" class=\"dataframe\">\n",
       "  <thead>\n",
       "    <tr style=\"text-align: right;\">\n",
       "      <th>degree</th>\n",
       "      <th>DOKTORA</th>\n",
       "      <th>Diğer</th>\n",
       "      <th>LİSANS</th>\n",
       "      <th>YÜKSEK_LİSANS</th>\n",
       "      <th>ÖNLİSANS</th>\n",
       "    </tr>\n",
       "    <tr>\n",
       "      <th>user_id</th>\n",
       "      <th></th>\n",
       "      <th></th>\n",
       "      <th></th>\n",
       "      <th></th>\n",
       "      <th></th>\n",
       "    </tr>\n",
       "  </thead>\n",
       "  <tbody>\n",
       "    <tr>\n",
       "      <th>1</th>\n",
       "      <td>NaN</td>\n",
       "      <td>NaN</td>\n",
       "      <td>Fırat Üniversitesi</td>\n",
       "      <td>Fırat Üniversitesi</td>\n",
       "      <td>NaN</td>\n",
       "    </tr>\n",
       "    <tr>\n",
       "      <th>2</th>\n",
       "      <td>NaN</td>\n",
       "      <td>Fırat Üniversitesi</td>\n",
       "      <td>NaN</td>\n",
       "      <td>NaN</td>\n",
       "      <td>NaN</td>\n",
       "    </tr>\n",
       "    <tr>\n",
       "      <th>3</th>\n",
       "      <td>NaN</td>\n",
       "      <td>NaN</td>\n",
       "      <td>Fırat Üniversitesi</td>\n",
       "      <td>NaN</td>\n",
       "      <td>NaN</td>\n",
       "    </tr>\n",
       "    <tr>\n",
       "      <th>4</th>\n",
       "      <td>NaN</td>\n",
       "      <td>NaN</td>\n",
       "      <td>Fırat Üniversitesi</td>\n",
       "      <td>NaN</td>\n",
       "      <td>NaN</td>\n",
       "    </tr>\n",
       "    <tr>\n",
       "      <th>5</th>\n",
       "      <td>NaN</td>\n",
       "      <td>İzmit Anadolu İmam Hatip Lisesi</td>\n",
       "      <td>The State University of Applied Sciences in El...</td>\n",
       "      <td>Firat University</td>\n",
       "      <td>NaN</td>\n",
       "    </tr>\n",
       "  </tbody>\n",
       "</table>\n",
       "</div>"
      ],
      "text/plain": [
       "degree  DOKTORA                            Diğer  \\\n",
       "user_id                                            \n",
       "1           NaN                              NaN   \n",
       "2           NaN               Fırat Üniversitesi   \n",
       "3           NaN                              NaN   \n",
       "4           NaN                              NaN   \n",
       "5           NaN  İzmit Anadolu İmam Hatip Lisesi   \n",
       "\n",
       "degree                                              LİSANS  \\\n",
       "user_id                                                      \n",
       "1                                       Fırat Üniversitesi   \n",
       "2                                                      NaN   \n",
       "3                                       Fırat Üniversitesi   \n",
       "4                                       Fırat Üniversitesi   \n",
       "5        The State University of Applied Sciences in El...   \n",
       "\n",
       "degree        YÜKSEK_LİSANS ÖNLİSANS  \n",
       "user_id                               \n",
       "1        Fırat Üniversitesi      NaN  \n",
       "2                       NaN      NaN  \n",
       "3                       NaN      NaN  \n",
       "4                       NaN      NaN  \n",
       "5          Firat University      NaN  "
      ]
     },
     "execution_count": 13,
     "metadata": {},
     "output_type": "execute_result"
    }
   ],
   "source": [
    "df_education = df_education.drop_duplicates(['user_id', 'degree'])\n",
    "df_education = pd.pivot(df_education, index='user_id', columns='degree', values='school_name')\n",
    "df_education.head()"
   ]
  },
  {
   "cell_type": "markdown",
   "id": "824cb259",
   "metadata": {
    "id": "oOBfoPVwB3sQ",
    "papermill": {
     "duration": 0.007904,
     "end_time": "2023-02-21T08:20:04.253928",
     "exception": false,
     "start_time": "2023-02-21T08:20:04.246024",
     "status": "completed"
    },
    "tags": []
   },
   "source": [
    "### Work Experience"
   ]
  },
  {
   "cell_type": "code",
   "execution_count": 14,
   "id": "6086012d",
   "metadata": {
    "execution": {
     "iopub.execute_input": "2023-02-21T08:20:04.288701Z",
     "iopub.status.busy": "2023-02-21T08:20:04.287828Z",
     "iopub.status.idle": "2023-02-21T08:20:04.293740Z",
     "shell.execute_reply": "2023-02-21T08:20:04.292905Z"
    },
    "id": "OJRQIHGsB3sQ",
    "papermill": {
     "duration": 0.017906,
     "end_time": "2023-02-21T08:20:04.296277",
     "exception": false,
     "start_time": "2023-02-21T08:20:04.278371",
     "status": "completed"
    },
    "tags": []
   },
   "outputs": [],
   "source": [
    "df_new = pd.DataFrame()"
   ]
  },
  {
   "cell_type": "code",
   "execution_count": 15,
   "id": "fb6a18c3",
   "metadata": {},
   "outputs": [],
   "source": [
    "df_work_experiences = df_work_experiences.sort_values(by=['user_id', 'start_year_month'])"
   ]
  },
  {
   "cell_type": "code",
   "execution_count": 16,
   "id": "a7794a0a",
   "metadata": {
    "execution": {
     "iopub.execute_input": "2023-02-21T08:20:04.315147Z",
     "iopub.status.busy": "2023-02-21T08:20:04.314008Z",
     "iopub.status.idle": "2023-02-21T08:20:04.683605Z",
     "shell.execute_reply": "2023-02-21T08:20:04.682680Z"
    },
    "id": "Zmrt8OiQB3sQ",
    "papermill": {
     "duration": 0.382122,
     "end_time": "2023-02-21T08:20:04.686491",
     "exception": false,
     "start_time": "2023-02-21T08:20:04.304369",
     "status": "completed"
    },
    "tags": []
   },
   "outputs": [],
   "source": [
    "df_new['company(1th)'] = df_work_experiences.groupby(USER_ID)['company_id'].nth(-1).astype(str)\n",
    "df_new['company(2th)'] = df_work_experiences.groupby(USER_ID)['company_id'].nth(-2).astype(str)\n",
    "df_new['company(3th)'] = df_work_experiences.groupby(USER_ID)['company_id'].nth(-3).astype(str)\n",
    "df_new['company(4th)'] = df_work_experiences.groupby(USER_ID)['company_id'].nth(-4).astype(str)\n",
    "\n",
    "\n",
    "df_new['company_location(1th)'] = df_work_experiences.groupby(USER_ID)['location'].nth(-1).astype(str)\n",
    "df_new['company_location(2th)'] = df_work_experiences.groupby(USER_ID)['location'].nth(-2).astype(str)\n",
    "df_new['company_location(3th)'] = df_work_experiences.groupby(USER_ID)['location'].nth(-3).astype(str)\n",
    "df_new['company_location(4th)'] = df_work_experiences.groupby(USER_ID)['location'].nth(-4).astype(str)\n",
    "\n",
    "\n",
    "df_new['min_exp_time'] = df_work_experiences.groupby(USER_ID)['start_year_month'].min()\n",
    "df_new['max_exp_time'] = df_work_experiences.groupby(USER_ID)['start_year_month'].max()\n",
    "\n",
    "\n",
    "df_new['company_count_2018'] = df_work_experiences[df_work_experiences['start_year_month'].gt(201712)].groupby(USER_ID).size()\n",
    "df_new['company_count_2017'] = df_work_experiences[df_work_experiences['start_year_month'].gt(201612)].groupby(USER_ID).size()\n",
    "df_new['company_count_2016'] = df_work_experiences[df_work_experiences['start_year_month'].gt(201512)].groupby(USER_ID).size()"
   ]
  },
  {
   "cell_type": "code",
   "execution_count": 17,
   "id": "3010d634",
   "metadata": {
    "execution": {
     "iopub.execute_input": "2023-02-21T08:20:04.705297Z",
     "iopub.status.busy": "2023-02-21T08:20:04.704615Z",
     "iopub.status.idle": "2023-02-21T08:20:04.721165Z",
     "shell.execute_reply": "2023-02-21T08:20:04.720023Z"
    },
    "id": "QljQIqtgB3sQ",
    "outputId": "767d6ee9-1f45-459e-b9e4-5c054333c35e",
    "papermill": {
     "duration": 0.029031,
     "end_time": "2023-02-21T08:20:04.723729",
     "exception": false,
     "start_time": "2023-02-21T08:20:04.694698",
     "status": "completed"
    },
    "tags": []
   },
   "outputs": [
    {
     "data": {
      "text/html": [
       "<div>\n",
       "<style scoped>\n",
       "    .dataframe tbody tr th:only-of-type {\n",
       "        vertical-align: middle;\n",
       "    }\n",
       "\n",
       "    .dataframe tbody tr th {\n",
       "        vertical-align: top;\n",
       "    }\n",
       "\n",
       "    .dataframe thead th {\n",
       "        text-align: right;\n",
       "    }\n",
       "</style>\n",
       "<table border=\"1\" class=\"dataframe\">\n",
       "  <thead>\n",
       "    <tr style=\"text-align: right;\">\n",
       "      <th></th>\n",
       "      <th>company(1th)</th>\n",
       "      <th>company(2th)</th>\n",
       "      <th>company(3th)</th>\n",
       "      <th>company(4th)</th>\n",
       "      <th>company_location(1th)</th>\n",
       "      <th>company_location(2th)</th>\n",
       "      <th>company_location(3th)</th>\n",
       "      <th>company_location(4th)</th>\n",
       "      <th>min_exp_time</th>\n",
       "      <th>max_exp_time</th>\n",
       "      <th>company_count_2018</th>\n",
       "      <th>company_count_2017</th>\n",
       "      <th>company_count_2016</th>\n",
       "    </tr>\n",
       "    <tr>\n",
       "      <th>user_id</th>\n",
       "      <th></th>\n",
       "      <th></th>\n",
       "      <th></th>\n",
       "      <th></th>\n",
       "      <th></th>\n",
       "      <th></th>\n",
       "      <th></th>\n",
       "      <th></th>\n",
       "      <th></th>\n",
       "      <th></th>\n",
       "      <th></th>\n",
       "      <th></th>\n",
       "      <th></th>\n",
       "    </tr>\n",
       "  </thead>\n",
       "  <tbody>\n",
       "    <tr>\n",
       "      <th>0</th>\n",
       "      <td>0</td>\n",
       "      <td>0</td>\n",
       "      <td>NaN</td>\n",
       "      <td>NaN</td>\n",
       "      <td>Visual Studio Asp.Net Developer</td>\n",
       "      <td>Serbest Çalışmalar</td>\n",
       "      <td>NaN</td>\n",
       "      <td>NaN</td>\n",
       "      <td>200509</td>\n",
       "      <td>200509</td>\n",
       "      <td>NaN</td>\n",
       "      <td>NaN</td>\n",
       "      <td>NaN</td>\n",
       "    </tr>\n",
       "    <tr>\n",
       "      <th>2</th>\n",
       "      <td>10</td>\n",
       "      <td>7</td>\n",
       "      <td>9</td>\n",
       "      <td>NaN</td>\n",
       "      <td>Mersin, Turkey</td>\n",
       "      <td>Elazig, Turkey</td>\n",
       "      <td>Elazig, Turkey</td>\n",
       "      <td>NaN</td>\n",
       "      <td>201612</td>\n",
       "      <td>201806</td>\n",
       "      <td>1.0</td>\n",
       "      <td>2.0</td>\n",
       "      <td>3.0</td>\n",
       "    </tr>\n",
       "    <tr>\n",
       "      <th>5</th>\n",
       "      <td>15</td>\n",
       "      <td>NaN</td>\n",
       "      <td>NaN</td>\n",
       "      <td>NaN</td>\n",
       "      <td>İstanbul</td>\n",
       "      <td>NaN</td>\n",
       "      <td>NaN</td>\n",
       "      <td>NaN</td>\n",
       "      <td>201706</td>\n",
       "      <td>201706</td>\n",
       "      <td>NaN</td>\n",
       "      <td>1.0</td>\n",
       "      <td>1.0</td>\n",
       "    </tr>\n",
       "    <tr>\n",
       "      <th>7</th>\n",
       "      <td>20</td>\n",
       "      <td>21</td>\n",
       "      <td>21</td>\n",
       "      <td>21</td>\n",
       "      <td>Elazığ</td>\n",
       "      <td>Macedonia</td>\n",
       "      <td>Istanbul, Turkey</td>\n",
       "      <td>Istanbul, Turkey</td>\n",
       "      <td>201607</td>\n",
       "      <td>201812</td>\n",
       "      <td>1.0</td>\n",
       "      <td>3.0</td>\n",
       "      <td>4.0</td>\n",
       "    </tr>\n",
       "    <tr>\n",
       "      <th>10</th>\n",
       "      <td>26</td>\n",
       "      <td>26</td>\n",
       "      <td>27</td>\n",
       "      <td>NaN</td>\n",
       "      <td>istanbul</td>\n",
       "      <td>Istanbul, Turkey</td>\n",
       "      <td>Elazig, Turkey</td>\n",
       "      <td>NaN</td>\n",
       "      <td>201308</td>\n",
       "      <td>201805</td>\n",
       "      <td>2.0</td>\n",
       "      <td>2.0</td>\n",
       "      <td>2.0</td>\n",
       "    </tr>\n",
       "  </tbody>\n",
       "</table>\n",
       "</div>"
      ],
      "text/plain": [
       "        company(1th) company(2th) company(3th) company(4th)  \\\n",
       "user_id                                                       \n",
       "0                  0            0          NaN          NaN   \n",
       "2                 10            7            9          NaN   \n",
       "5                 15          NaN          NaN          NaN   \n",
       "7                 20           21           21           21   \n",
       "10                26           26           27          NaN   \n",
       "\n",
       "                   company_location(1th) company_location(2th)  \\\n",
       "user_id                                                          \n",
       "0        Visual Studio Asp.Net Developer    Serbest Çalışmalar   \n",
       "2                         Mersin, Turkey        Elazig, Turkey   \n",
       "5                               İstanbul                   NaN   \n",
       "7                                 Elazığ             Macedonia   \n",
       "10                              istanbul      Istanbul, Turkey   \n",
       "\n",
       "        company_location(3th) company_location(4th)  min_exp_time  \\\n",
       "user_id                                                             \n",
       "0                         NaN                   NaN        200509   \n",
       "2              Elazig, Turkey                   NaN        201612   \n",
       "5                         NaN                   NaN        201706   \n",
       "7            Istanbul, Turkey      Istanbul, Turkey        201607   \n",
       "10             Elazig, Turkey                   NaN        201308   \n",
       "\n",
       "         max_exp_time  company_count_2018  company_count_2017  \\\n",
       "user_id                                                         \n",
       "0              200509                 NaN                 NaN   \n",
       "2              201806                 1.0                 2.0   \n",
       "5              201706                 NaN                 1.0   \n",
       "7              201812                 1.0                 3.0   \n",
       "10             201805                 2.0                 2.0   \n",
       "\n",
       "         company_count_2016  \n",
       "user_id                      \n",
       "0                       NaN  \n",
       "2                       3.0  \n",
       "5                       1.0  \n",
       "7                       4.0  \n",
       "10                      2.0  "
      ]
     },
     "execution_count": 17,
     "metadata": {},
     "output_type": "execute_result"
    }
   ],
   "source": [
    "df_work_experiences = df_new\n",
    "df_work_experiences.head()"
   ]
  },
  {
   "cell_type": "markdown",
   "id": "62a8fcda",
   "metadata": {
    "id": "YGRZDa-JB3sP",
    "papermill": {
     "duration": 0.007716,
     "end_time": "2023-02-21T08:20:04.739750",
     "exception": false,
     "start_time": "2023-02-21T08:20:04.732034",
     "status": "completed"
    },
    "tags": []
   },
   "source": [
    "###  Skill "
   ]
  },
  {
   "cell_type": "code",
   "execution_count": 18,
   "id": "8fe795a7",
   "metadata": {
    "execution": {
     "iopub.execute_input": "2023-02-21T08:20:04.758470Z",
     "iopub.status.busy": "2023-02-21T08:20:04.757405Z",
     "iopub.status.idle": "2023-02-21T08:20:35.262068Z",
     "shell.execute_reply": "2023-02-21T08:20:35.260819Z"
    },
    "id": "JX830gYeGyLO",
    "papermill": {
     "duration": 30.51726,
     "end_time": "2023-02-21T08:20:35.265183",
     "exception": false,
     "start_time": "2023-02-21T08:20:04.747923",
     "status": "completed"
    },
    "tags": []
   },
   "outputs": [
    {
     "name": "stderr",
     "output_type": "stream",
     "text": [
      "C:\\Users\\ismmk\\AppData\\Local\\Temp\\ipykernel_33724\\2273662330.py:6: SettingWithCopyWarning: \n",
      "A value is trying to be set on a copy of a slice from a DataFrame.\n",
      "Try using .loc[row_indexer,col_indexer] = value instead\n",
      "\n",
      "See the caveats in the documentation: https://pandas.pydata.org/pandas-docs/stable/user_guide/indexing.html#returning-a-view-versus-a-copy\n",
      "  df_skill['experience'] = True\n"
     ]
    },
    {
     "data": {
      "text/html": [
       "<div>\n",
       "<style scoped>\n",
       "    .dataframe tbody tr th:only-of-type {\n",
       "        vertical-align: middle;\n",
       "    }\n",
       "\n",
       "    .dataframe tbody tr th {\n",
       "        vertical-align: top;\n",
       "    }\n",
       "\n",
       "    .dataframe thead th {\n",
       "        text-align: right;\n",
       "    }\n",
       "</style>\n",
       "<table border=\"1\" class=\"dataframe\">\n",
       "  <thead>\n",
       "    <tr style=\"text-align: right;\">\n",
       "      <th>skill</th>\n",
       "      <th>.NET</th>\n",
       "      <th>AJAX</th>\n",
       "      <th>ASP.NET</th>\n",
       "      <th>ASP.NET MVC</th>\n",
       "      <th>Agile Methodologies</th>\n",
       "      <th>Android</th>\n",
       "      <th>AutoCAD</th>\n",
       "      <th>C</th>\n",
       "      <th>C#</th>\n",
       "      <th>C++</th>\n",
       "      <th>...</th>\n",
       "      <th>Software Engineering</th>\n",
       "      <th>Spring Framework</th>\n",
       "      <th>T-SQL</th>\n",
       "      <th>Visual Studio</th>\n",
       "      <th>Web Development</th>\n",
       "      <th>Web Geliştirme</th>\n",
       "      <th>Web Services</th>\n",
       "      <th>XML</th>\n",
       "      <th>Yazılım Geliştirme</th>\n",
       "      <th>jQuery</th>\n",
       "    </tr>\n",
       "    <tr>\n",
       "      <th>user_id</th>\n",
       "      <th></th>\n",
       "      <th></th>\n",
       "      <th></th>\n",
       "      <th></th>\n",
       "      <th></th>\n",
       "      <th></th>\n",
       "      <th></th>\n",
       "      <th></th>\n",
       "      <th></th>\n",
       "      <th></th>\n",
       "      <th></th>\n",
       "      <th></th>\n",
       "      <th></th>\n",
       "      <th></th>\n",
       "      <th></th>\n",
       "      <th></th>\n",
       "      <th></th>\n",
       "      <th></th>\n",
       "      <th></th>\n",
       "      <th></th>\n",
       "      <th></th>\n",
       "    </tr>\n",
       "  </thead>\n",
       "  <tbody>\n",
       "    <tr>\n",
       "      <th>1</th>\n",
       "      <td>0</td>\n",
       "      <td>0</td>\n",
       "      <td>0</td>\n",
       "      <td>0</td>\n",
       "      <td>0</td>\n",
       "      <td>0</td>\n",
       "      <td>0</td>\n",
       "      <td>0</td>\n",
       "      <td>0</td>\n",
       "      <td>0</td>\n",
       "      <td>...</td>\n",
       "      <td>0</td>\n",
       "      <td>0</td>\n",
       "      <td>0</td>\n",
       "      <td>0</td>\n",
       "      <td>0</td>\n",
       "      <td>0</td>\n",
       "      <td>0</td>\n",
       "      <td>0</td>\n",
       "      <td>0</td>\n",
       "      <td>0</td>\n",
       "    </tr>\n",
       "    <tr>\n",
       "      <th>2</th>\n",
       "      <td>0</td>\n",
       "      <td>0</td>\n",
       "      <td>0</td>\n",
       "      <td>0</td>\n",
       "      <td>0</td>\n",
       "      <td>1</td>\n",
       "      <td>0</td>\n",
       "      <td>0</td>\n",
       "      <td>0</td>\n",
       "      <td>0</td>\n",
       "      <td>...</td>\n",
       "      <td>0</td>\n",
       "      <td>0</td>\n",
       "      <td>0</td>\n",
       "      <td>0</td>\n",
       "      <td>0</td>\n",
       "      <td>0</td>\n",
       "      <td>0</td>\n",
       "      <td>0</td>\n",
       "      <td>0</td>\n",
       "      <td>0</td>\n",
       "    </tr>\n",
       "    <tr>\n",
       "      <th>3</th>\n",
       "      <td>0</td>\n",
       "      <td>0</td>\n",
       "      <td>0</td>\n",
       "      <td>0</td>\n",
       "      <td>0</td>\n",
       "      <td>0</td>\n",
       "      <td>0</td>\n",
       "      <td>0</td>\n",
       "      <td>0</td>\n",
       "      <td>0</td>\n",
       "      <td>...</td>\n",
       "      <td>0</td>\n",
       "      <td>0</td>\n",
       "      <td>0</td>\n",
       "      <td>0</td>\n",
       "      <td>0</td>\n",
       "      <td>0</td>\n",
       "      <td>0</td>\n",
       "      <td>0</td>\n",
       "      <td>0</td>\n",
       "      <td>0</td>\n",
       "    </tr>\n",
       "    <tr>\n",
       "      <th>5</th>\n",
       "      <td>0</td>\n",
       "      <td>0</td>\n",
       "      <td>0</td>\n",
       "      <td>0</td>\n",
       "      <td>0</td>\n",
       "      <td>0</td>\n",
       "      <td>0</td>\n",
       "      <td>0</td>\n",
       "      <td>0</td>\n",
       "      <td>0</td>\n",
       "      <td>...</td>\n",
       "      <td>0</td>\n",
       "      <td>0</td>\n",
       "      <td>0</td>\n",
       "      <td>0</td>\n",
       "      <td>0</td>\n",
       "      <td>0</td>\n",
       "      <td>0</td>\n",
       "      <td>0</td>\n",
       "      <td>0</td>\n",
       "      <td>0</td>\n",
       "    </tr>\n",
       "    <tr>\n",
       "      <th>6</th>\n",
       "      <td>0</td>\n",
       "      <td>0</td>\n",
       "      <td>0</td>\n",
       "      <td>0</td>\n",
       "      <td>0</td>\n",
       "      <td>0</td>\n",
       "      <td>0</td>\n",
       "      <td>0</td>\n",
       "      <td>0</td>\n",
       "      <td>0</td>\n",
       "      <td>...</td>\n",
       "      <td>0</td>\n",
       "      <td>0</td>\n",
       "      <td>0</td>\n",
       "      <td>0</td>\n",
       "      <td>0</td>\n",
       "      <td>0</td>\n",
       "      <td>0</td>\n",
       "      <td>0</td>\n",
       "      <td>0</td>\n",
       "      <td>0</td>\n",
       "    </tr>\n",
       "  </tbody>\n",
       "</table>\n",
       "<p>5 rows × 59 columns</p>\n",
       "</div>"
      ],
      "text/plain": [
       "skill    .NET  AJAX  ASP.NET  ASP.NET MVC  Agile Methodologies  Android  \\\n",
       "user_id                                                                   \n",
       "1           0     0        0            0                    0        0   \n",
       "2           0     0        0            0                    0        1   \n",
       "3           0     0        0            0                    0        0   \n",
       "5           0     0        0            0                    0        0   \n",
       "6           0     0        0            0                    0        0   \n",
       "\n",
       "skill    AutoCAD  C  C#  C++  ...  Software Engineering  Spring Framework  \\\n",
       "user_id                       ...                                           \n",
       "1              0  0   0    0  ...                     0                 0   \n",
       "2              0  0   0    0  ...                     0                 0   \n",
       "3              0  0   0    0  ...                     0                 0   \n",
       "5              0  0   0    0  ...                     0                 0   \n",
       "6              0  0   0    0  ...                     0                 0   \n",
       "\n",
       "skill    T-SQL  Visual Studio  Web Development  Web Geliştirme  Web Services  \\\n",
       "user_id                                                                        \n",
       "1            0              0                0               0             0   \n",
       "2            0              0                0               0             0   \n",
       "3            0              0                0               0             0   \n",
       "5            0              0                0               0             0   \n",
       "6            0              0                0               0             0   \n",
       "\n",
       "skill    XML  Yazılım Geliştirme  jQuery  \n",
       "user_id                                   \n",
       "1          0                   0       0  \n",
       "2          0                   0       0  \n",
       "3          0                   0       0  \n",
       "5          0                   0       0  \n",
       "6          0                   0       0  \n",
       "\n",
       "[5 rows x 59 columns]"
      ]
     },
     "execution_count": 18,
     "metadata": {},
     "output_type": "execute_result"
    }
   ],
   "source": [
    "df_skill = df_skills\n",
    "\n",
    "used_skills = df_skill['skill'].value_counts().iloc[:60].index # we only took most common 60 skills, you can increase it\n",
    "\n",
    "df_skill = df_skill[df_skill['skill'].isin(used_skills)]\n",
    "df_skill['experience'] = True\n",
    "\n",
    "counts = df_skill.skill.value_counts()\n",
    "counts.to_csv('name.csv')\n",
    "\n",
    "df_skill = df_skill.drop_duplicates(['user_id', 'skill'])\n",
    "df_skill = pd.pivot(df_skill, index='user_id', columns='skill', values='experience')\n",
    "df_skill = df_skill.fillna(0).astype(int)\n",
    "df_skill = df_skill.drop([\"İngilizce\"], axis=1)\n",
    "df_skill.head()"
   ]
  },
  {
   "cell_type": "code",
   "execution_count": 26,
   "id": "eb99c663",
   "metadata": {},
   "outputs": [],
   "source": [
    "\n",
    "idx = 'user_id'\n",
    "df_train = pd.read_csv(\"data/train_users.csv\")\n",
    "df_test  = pd.read_csv(\"data/test_users.csv\")\n",
    "df_subm  = pd.read_csv(os.path.join(root, 'submission.csv'))\n",
    "\n",
    "df_train = df_train.set_index(USER_ID)\n",
    "df_test = df_test.set_index(USER_ID)\n",
    "df_subm = df_subm.set_index(USER_ID)\n",
    "df_lang = df_languages\n",
    "df_edu = df_education\n",
    "df_exp = df_work_experiences\n"
   ]
  },
  {
   "cell_type": "markdown",
   "id": "5b20948b",
   "metadata": {},
   "source": [
    "### MERGE"
   ]
  },
  {
   "cell_type": "code",
   "execution_count": 27,
   "id": "a5d0fce1",
   "metadata": {},
   "outputs": [],
   "source": [
    "df_train[df_edu.columns]   = df_edu[df_edu.columns]\n",
    "df_train[df_lang.columns]  = df_lang[df_lang.columns]\n",
    "df_train[df_skill.columns] = df_skill[df_skill.columns]\n",
    "df_train[df_exp.columns]   = df_exp[df_exp.columns]\n",
    "\n",
    "df_test[df_edu.columns]   = df_edu[df_edu.columns]\n",
    "df_test[df_lang.columns]  = df_lang[df_lang.columns]\n",
    "df_test[df_skill.columns] = df_skill[df_skill.columns]\n",
    "df_test[df_exp.columns]   = df_exp[df_exp.columns]"
   ]
  },
  {
   "cell_type": "code",
   "execution_count": 28,
   "id": "2d2ea5be",
   "metadata": {},
   "outputs": [],
   "source": [
    "cat_cols = [col for col in df_test.columns if df_test[col].dtype == 'object']\n",
    "num_cols = [col for col in df_test.columns if df_test[col].dtype != 'object']"
   ]
  },
  {
   "cell_type": "code",
   "execution_count": 29,
   "id": "5fd989f7",
   "metadata": {},
   "outputs": [],
   "source": [
    "for col in cat_cols:\n",
    "    train_cats  = set(df_train[col].unique())\n",
    "    test_cats   = set(df_test[col].unique())\n",
    "    common_cats = set.intersection(train_cats, test_cats)\n",
    "    \n",
    "    df_train.loc[~df_train[col].isin(common_cats), col] = 'other'\n",
    "    df_test.loc[~df_test[col].isin(common_cats), col] = 'other'"
   ]
  },
  {
   "cell_type": "code",
   "execution_count": 30,
   "id": "c87c125a",
   "metadata": {},
   "outputs": [],
   "source": [
    "df_all = pd.concat([df_train, df_test], axis=0)\n",
    "\n",
    "for col in cat_cols:\n",
    "    df_all[col] = df_all[col].factorize()[0]\n",
    "\n",
    "df_all[cat_cols] = df_all[cat_cols].astype('category')\n",
    "df_all[num_cols] = df_all[num_cols].fillna(0)\n",
    "\n",
    "df_train = df_all.loc[df_train.index, df_train.columns]\n",
    "df_test = df_all.loc[df_test.index, df_test.columns]"
   ]
  },
  {
   "cell_type": "markdown",
   "id": "a04eae26",
   "metadata": {},
   "source": [
    "### MODEL"
   ]
  },
  {
   "cell_type": "code",
   "execution_count": 31,
   "id": "b8687710",
   "metadata": {},
   "outputs": [
    {
     "name": "stdout",
     "output_type": "stream",
     "text": [
      "Scores mean: 0.6678\n",
      "Scores std: 0.0032\n"
     ]
    }
   ],
   "source": [
    "from sklearn.model_selection import StratifiedKFold\n",
    "from sklearn.model_selection import cross_val_score\n",
    "from sklearn.ensemble import RandomForestClassifier\n",
    "X, y = df_train.drop(columns=[TARGET]), df_train[TARGET]\n",
    "clf = RandomForestClassifier(n_estimators=100, random_state=0)\n",
    "cv  = StratifiedKFold(shuffle=True, random_state=0)\n",
    "\n",
    "scores = cross_val_score(clf, X, y, cv=cv, scoring='accuracy')\n",
    "\n",
    "print(f'Scores mean: {np.mean(scores):.4f}')\n",
    "print(f'Scores std: {np.std(scores):.4f}')"
   ]
  },
  {
   "cell_type": "code",
   "execution_count": 32,
   "id": "f4634f72",
   "metadata": {},
   "outputs": [],
   "source": [
    "from sklearn.model_selection import train_test_split,GridSearchCV,cross_val_score,KFold,StratifiedKFold\n",
    "from sklearn.metrics import accuracy_score,roc_auc_score,roc_curve,classification_report,confusion_matrix\n",
    "from sklearn.preprocessing import scale,StandardScaler\n",
    "from sklearn.linear_model import LogisticRegression\n",
    "from sklearn.tree import DecisionTreeClassifier\n",
    "from sklearn.ensemble import GradientBoostingClassifier,RandomForestClassifier\n",
    "from xgboost import XGBClassifier\n",
    "from lightgbm import LGBMClassifier\n",
    "from catboost import CatBoostClassifier  \n",
    "X_train,X_test,y_train,y_test = train_test_split(X,y,random_state=42,stratify=y)"
   ]
  },
  {
   "cell_type": "code",
   "execution_count": 33,
   "id": "4d738afc",
   "metadata": {},
   "outputs": [],
   "source": [
    "logistic_model = LogisticRegression(solver=\"lbfgs\",random_state=42).fit(X_train,y_train)\n"
   ]
  },
  {
   "cell_type": "code",
   "execution_count": 34,
   "id": "dd05e6ed",
   "metadata": {},
   "outputs": [
    {
     "name": "stderr",
     "output_type": "stream",
     "text": [
      "C:\\Users\\ismmk\\anaconda3\\lib\\site-packages\\sklearn\\linear_model\\_logistic.py:444: ConvergenceWarning: lbfgs failed to converge (status=1):\n",
      "STOP: TOTAL NO. of ITERATIONS REACHED LIMIT.\n",
      "\n",
      "Increase the number of iterations (max_iter) or scale the data as shown in:\n",
      "    https://scikit-learn.org/stable/modules/preprocessing.html\n",
      "Please also refer to the documentation for alternative solver options:\n",
      "    https://scikit-learn.org/stable/modules/linear_model.html#logistic-regression\n",
      "  n_iter_i = _check_optimize_result(\n"
     ]
    },
    {
     "data": {
      "text/plain": [
       "array([0.61259902, 0.61297624, 0.61297624, 0.61297624, 0.61297624])"
      ]
     },
     "execution_count": 34,
     "metadata": {},
     "output_type": "execute_result"
    }
   ],
   "source": [
    "cross_val_score(logistic_model,X_test,y_test,scoring=\"accuracy\",cv=5)"
   ]
  },
  {
   "cell_type": "markdown",
   "id": "deba3bb5",
   "metadata": {},
   "source": [
    "### DECİSİON TREE"
   ]
  },
  {
   "cell_type": "code",
   "execution_count": 35,
   "id": "88cc8077",
   "metadata": {},
   "outputs": [
    {
     "name": "stdout",
     "output_type": "stream",
     "text": [
      "{'max_depth': 10, 'min_samples_split': 10}\n"
     ]
    }
   ],
   "source": [
    "decision_tree_model = DecisionTreeClassifier(random_state=42)\n",
    "params = {\"max_depth\":[2,3,5,8,10],\"min_samples_split\":[2,3,5,10,20,50]}\n",
    "cv_model = GridSearchCV(decision_tree_model,cv=cv,param_grid=params,n_jobs=-1).fit(X_train,y_train)\n",
    "print(cv_model.best_params_)"
   ]
  },
  {
   "cell_type": "code",
   "execution_count": 36,
   "id": "0ccf02f2",
   "metadata": {},
   "outputs": [],
   "source": [
    "final_decisionTree_model = DecisionTreeClassifier(max_depth=10,min_samples_split=2,random_state=42).fit(X_train,y_train)"
   ]
  },
  {
   "cell_type": "code",
   "execution_count": 37,
   "id": "e18393ca",
   "metadata": {},
   "outputs": [
    {
     "data": {
      "text/plain": [
       "array([0.59826481, 0.60920407, 0.60316862, 0.60241418, 0.60995851])"
      ]
     },
     "execution_count": 37,
     "metadata": {},
     "output_type": "execute_result"
    }
   ],
   "source": [
    "cross_val_score(final_decisionTree_model,X_test,y_test,scoring=\"accuracy\",cv=5)"
   ]
  },
  {
   "cell_type": "markdown",
   "id": "4619feca",
   "metadata": {},
   "source": [
    "### RANDOM FOREST"
   ]
  },
  {
   "cell_type": "code",
   "execution_count": 38,
   "id": "62853a21",
   "metadata": {},
   "outputs": [
    {
     "name": "stdout",
     "output_type": "stream",
     "text": [
      "{'max_features': 3, 'min_samples_split': 2, 'n_estimators': 300}\n"
     ]
    }
   ],
   "source": [
    "randomForest_model = RandomForestClassifier(random_state=42,class_weight='balanced_subsample')\n",
    "params = {\"n_estimators\":[200,300],\n",
    "             \"max_features\":[3,5,7],\n",
    "             \"min_samples_split\":[2,5,10]}\n",
    "\n",
    "randomForest_cv_model = GridSearchCV(randomForest_model,cv=cv,param_grid=params,n_jobs=-1).fit(X_train,y_train)\n",
    "print(randomForest_cv_model.best_params_)"
   ]
  },
  {
   "cell_type": "code",
   "execution_count": 39,
   "id": "99afc356",
   "metadata": {},
   "outputs": [],
   "source": [
    "final_randomForest_model = RandomForestClassifier(n_estimators=300,class_weight='balanced_subsample',max_features=5,min_samples_split=5,random_state=42).fit(X_train,y_train)"
   ]
  },
  {
   "cell_type": "code",
   "execution_count": 40,
   "id": "ee0ef6d5",
   "metadata": {},
   "outputs": [
    {
     "data": {
      "text/plain": [
       "array([0.64051301, 0.63372312, 0.64315353, 0.64126745, 0.6378725 ])"
      ]
     },
     "execution_count": 40,
     "metadata": {},
     "output_type": "execute_result"
    }
   ],
   "source": [
    "cross_val_score(final_randomForest_model,X_test,y_test,scoring=\"accuracy\",cv=5)"
   ]
  },
  {
   "cell_type": "markdown",
   "id": "a2e646b2",
   "metadata": {},
   "source": [
    "### GBM"
   ]
  },
  {
   "cell_type": "code",
   "execution_count": 41,
   "id": "848401d3",
   "metadata": {},
   "outputs": [
    {
     "name": "stdout",
     "output_type": "stream",
     "text": [
      "{'learning_rate': 0.05, 'max_depth': 3, 'n_estimators': 300}\n"
     ]
    }
   ],
   "source": [
    "gbm_model = GradientBoostingClassifier(random_state=42)\n",
    "params = {\"learning_rate\":[0.1,0.01,0.05],\n",
    "           \"n_estimators\":[100,300],\n",
    "           \"max_depth\":[2,3]}\n",
    "gbm_cv_model = GridSearchCV(gbm_model,param_grid=params,cv=cv,n_jobs=-1).fit(X_train,y_train)\n",
    "print(gbm_cv_model.best_params_)"
   ]
  },
  {
   "cell_type": "code",
   "execution_count": 42,
   "id": "a2d4b802",
   "metadata": {},
   "outputs": [],
   "source": [
    "final_gbm_model = GradientBoostingClassifier(n_estimators=300,learning_rate=0.1,max_depth=3,random_state=42).fit(X_train,y_train)"
   ]
  },
  {
   "cell_type": "code",
   "execution_count": 43,
   "id": "538c9668",
   "metadata": {},
   "outputs": [
    {
     "data": {
      "text/plain": [
       "array([0.62504715, 0.62165221, 0.62693323, 0.63145983, 0.62655602])"
      ]
     },
     "execution_count": 43,
     "metadata": {},
     "output_type": "execute_result"
    }
   ],
   "source": [
    "cross_val_score(final_gbm_model,X_test,y_test,scoring=\"accuracy\",cv=5)"
   ]
  },
  {
   "cell_type": "markdown",
   "id": "6493c455",
   "metadata": {},
   "source": [
    "### XGB"
   ]
  },
  {
   "cell_type": "code",
   "execution_count": 44,
   "id": "001a2576",
   "metadata": {},
   "outputs": [
    {
     "name": "stdout",
     "output_type": "stream",
     "text": [
      "{'learning_rate': 0.01, 'max_depth': 5, 'n_estimators': 100, 'subsample': 0.8}\n"
     ]
    }
   ],
   "source": [
    "xgb_model = XGBClassifier(tree_method=\"gpu_hist\", enable_categorical=True)\n",
    "params = {\"n_estimators\":[100,500],\n",
    "            \"max_depth\":[3,5],\n",
    "            \"learning_rate\":[0.1,0.01],\n",
    "            \"subsample\":[0.6,0.8]\n",
    "         }\n",
    "xgb_cv_model = GridSearchCV(xgb_model,param_grid=params,cv=3,n_jobs=-1).fit(X_train,y_train)\n",
    "print(xgb_cv_model.best_params_)"
   ]
  },
  {
   "cell_type": "code",
   "execution_count": 45,
   "id": "457e4b17",
   "metadata": {},
   "outputs": [],
   "source": [
    "final_xgb_model = XGBClassifier(n_estimators=500,learning_rate=0.1,max_depth=5,subsample=0.8,tree_method=\"gpu_hist\", enable_categorical=True).fit(X_train,y_train)"
   ]
  },
  {
   "cell_type": "code",
   "execution_count": 46,
   "id": "64d1c759",
   "metadata": {},
   "outputs": [
    {
     "data": {
      "text/plain": [
       "array([0.58807997, 0.59751037, 0.60128253, 0.60203697, 0.59411543])"
      ]
     },
     "execution_count": 46,
     "metadata": {},
     "output_type": "execute_result"
    }
   ],
   "source": [
    "cross_val_score(final_xgb_model,X_test,y_test,scoring=\"accuracy\",cv=5)"
   ]
  },
  {
   "cell_type": "markdown",
   "id": "ab06877a",
   "metadata": {},
   "source": [
    "### FİNAL PREDİCT"
   ]
  },
  {
   "cell_type": "code",
   "execution_count": 47,
   "id": "723a5d5d",
   "metadata": {},
   "outputs": [
    {
     "name": "stdout",
     "output_type": "stream",
     "text": [
      "Score is: %62.5\n",
      "Score is: %67.9\n",
      "Score is: %63.8\n",
      "Score is: %61.0\n"
     ]
    }
   ],
   "source": [
    "models=[final_decisionTree_model,\n",
    "        final_randomForest_model,\n",
    "        final_gbm_model,\n",
    "        final_xgb_model]\n",
    "for model in models:\n",
    "    predicted=model.predict(X_test)\n",
    "    score = accuracy_score(y_test,predicted)\n",
    "    print(\"Score is: %{:.1f}\".format(score*100)) "
   ]
  },
  {
   "cell_type": "code",
   "execution_count": 48,
   "id": "07647ed8",
   "metadata": {},
   "outputs": [
    {
     "name": "stdout",
     "output_type": "stream",
     "text": [
      "0.0    10574\n",
      "1.0     2681\n",
      "Name: moved_after_2019, dtype: int64\n",
      "0.0    10574\n",
      "1.0     2681\n",
      "Name: moved_after_2019, dtype: int64\n",
      "0.0    10574\n",
      "1.0     2681\n",
      "Name: moved_after_2019, dtype: int64\n",
      "0.0    10574\n",
      "1.0     2681\n",
      "Name: moved_after_2019, dtype: int64\n"
     ]
    }
   ],
   "source": [
    "models=[final_decisionTree_model,\n",
    "        final_randomForest_model,\n",
    "        final_gbm_model,\n",
    "        final_xgb_model]\n",
    "for model in models:\n",
    "    predicted = final_randomForest_model.predict(df_test)\n",
    "    df_subm.loc[:,\"moved_after_2019\"] = predicted\n",
    "    print(df_subm[\"moved_after_2019\"].value_counts() )"
   ]
  },
  {
   "cell_type": "code",
   "execution_count": 49,
   "id": "7c8c7b46",
   "metadata": {},
   "outputs": [],
   "source": [
    "predicted=final_randomForest_model.predict(X_test)"
   ]
  },
  {
   "cell_type": "code",
   "execution_count": 50,
   "id": "259e8d40",
   "metadata": {},
   "outputs": [],
   "source": [
    "score = accuracy_score(y_test,predicted)"
   ]
  },
  {
   "cell_type": "code",
   "execution_count": 51,
   "id": "d30cc383",
   "metadata": {},
   "outputs": [
    {
     "name": "stdout",
     "output_type": "stream",
     "text": [
      "Score is: %67.9\n"
     ]
    }
   ],
   "source": [
    "print(\"Score is: %{:.1f}\".format(score*100))  "
   ]
  },
  {
   "cell_type": "code",
   "execution_count": 52,
   "id": "52059f8a",
   "metadata": {},
   "outputs": [],
   "source": [
    "predicted = final_randomForest_model.predict(df_test)"
   ]
  },
  {
   "cell_type": "markdown",
   "id": "3adbfa31",
   "metadata": {},
   "source": [
    "### SUBMİSSİON"
   ]
  },
  {
   "cell_type": "code",
   "execution_count": 53,
   "id": "c7ce101b",
   "metadata": {},
   "outputs": [],
   "source": [
    "df_subm.loc[:,\"moved_after_2019\"] = predicted"
   ]
  },
  {
   "cell_type": "code",
   "execution_count": 54,
   "id": "68fb5b7b",
   "metadata": {},
   "outputs": [
    {
     "ename": "IntCastingNaNError",
     "evalue": "Cannot convert non-finite values (NA or inf) to integer",
     "output_type": "error",
     "traceback": [
      "\u001b[1;31m---------------------------------------------------------------------------\u001b[0m",
      "\u001b[1;31mIntCastingNaNError\u001b[0m                        Traceback (most recent call last)",
      "\u001b[1;32m~\\AppData\\Local\\Temp\\ipykernel_33724\\3280713066.py\u001b[0m in \u001b[0;36m<module>\u001b[1;34m\u001b[0m\n\u001b[1;32m----> 1\u001b[1;33m \u001b[0msubmission\u001b[0m \u001b[1;33m=\u001b[0m \u001b[0mdf_subm\u001b[0m\u001b[1;33m.\u001b[0m\u001b[0mastype\u001b[0m\u001b[1;33m(\u001b[0m\u001b[0mint\u001b[0m\u001b[1;33m)\u001b[0m\u001b[1;33m\u001b[0m\u001b[1;33m\u001b[0m\u001b[0m\n\u001b[0m",
      "\u001b[1;32m~\\anaconda3\\lib\\site-packages\\pandas\\core\\generic.py\u001b[0m in \u001b[0;36mastype\u001b[1;34m(self, dtype, copy, errors)\u001b[0m\n\u001b[0;32m   6238\u001b[0m         \u001b[1;32melse\u001b[0m\u001b[1;33m:\u001b[0m\u001b[1;33m\u001b[0m\u001b[1;33m\u001b[0m\u001b[0m\n\u001b[0;32m   6239\u001b[0m             \u001b[1;31m# else, only a single dtype is given\u001b[0m\u001b[1;33m\u001b[0m\u001b[1;33m\u001b[0m\u001b[0m\n\u001b[1;32m-> 6240\u001b[1;33m             \u001b[0mnew_data\u001b[0m \u001b[1;33m=\u001b[0m \u001b[0mself\u001b[0m\u001b[1;33m.\u001b[0m\u001b[0m_mgr\u001b[0m\u001b[1;33m.\u001b[0m\u001b[0mastype\u001b[0m\u001b[1;33m(\u001b[0m\u001b[0mdtype\u001b[0m\u001b[1;33m=\u001b[0m\u001b[0mdtype\u001b[0m\u001b[1;33m,\u001b[0m \u001b[0mcopy\u001b[0m\u001b[1;33m=\u001b[0m\u001b[0mcopy\u001b[0m\u001b[1;33m,\u001b[0m \u001b[0merrors\u001b[0m\u001b[1;33m=\u001b[0m\u001b[0merrors\u001b[0m\u001b[1;33m)\u001b[0m\u001b[1;33m\u001b[0m\u001b[1;33m\u001b[0m\u001b[0m\n\u001b[0m\u001b[0;32m   6241\u001b[0m             \u001b[1;32mreturn\u001b[0m \u001b[0mself\u001b[0m\u001b[1;33m.\u001b[0m\u001b[0m_constructor\u001b[0m\u001b[1;33m(\u001b[0m\u001b[0mnew_data\u001b[0m\u001b[1;33m)\u001b[0m\u001b[1;33m.\u001b[0m\u001b[0m__finalize__\u001b[0m\u001b[1;33m(\u001b[0m\u001b[0mself\u001b[0m\u001b[1;33m,\u001b[0m \u001b[0mmethod\u001b[0m\u001b[1;33m=\u001b[0m\u001b[1;34m\"astype\"\u001b[0m\u001b[1;33m)\u001b[0m\u001b[1;33m\u001b[0m\u001b[1;33m\u001b[0m\u001b[0m\n\u001b[0;32m   6242\u001b[0m \u001b[1;33m\u001b[0m\u001b[0m\n",
      "\u001b[1;32m~\\anaconda3\\lib\\site-packages\\pandas\\core\\internals\\managers.py\u001b[0m in \u001b[0;36mastype\u001b[1;34m(self, dtype, copy, errors)\u001b[0m\n\u001b[0;32m    443\u001b[0m \u001b[1;33m\u001b[0m\u001b[0m\n\u001b[0;32m    444\u001b[0m     \u001b[1;32mdef\u001b[0m \u001b[0mastype\u001b[0m\u001b[1;33m(\u001b[0m\u001b[0mself\u001b[0m\u001b[1;33m:\u001b[0m \u001b[0mT\u001b[0m\u001b[1;33m,\u001b[0m \u001b[0mdtype\u001b[0m\u001b[1;33m,\u001b[0m \u001b[0mcopy\u001b[0m\u001b[1;33m:\u001b[0m \u001b[0mbool\u001b[0m \u001b[1;33m=\u001b[0m \u001b[1;32mFalse\u001b[0m\u001b[1;33m,\u001b[0m \u001b[0merrors\u001b[0m\u001b[1;33m:\u001b[0m \u001b[0mstr\u001b[0m \u001b[1;33m=\u001b[0m \u001b[1;34m\"raise\"\u001b[0m\u001b[1;33m)\u001b[0m \u001b[1;33m->\u001b[0m \u001b[0mT\u001b[0m\u001b[1;33m:\u001b[0m\u001b[1;33m\u001b[0m\u001b[1;33m\u001b[0m\u001b[0m\n\u001b[1;32m--> 445\u001b[1;33m         \u001b[1;32mreturn\u001b[0m \u001b[0mself\u001b[0m\u001b[1;33m.\u001b[0m\u001b[0mapply\u001b[0m\u001b[1;33m(\u001b[0m\u001b[1;34m\"astype\"\u001b[0m\u001b[1;33m,\u001b[0m \u001b[0mdtype\u001b[0m\u001b[1;33m=\u001b[0m\u001b[0mdtype\u001b[0m\u001b[1;33m,\u001b[0m \u001b[0mcopy\u001b[0m\u001b[1;33m=\u001b[0m\u001b[0mcopy\u001b[0m\u001b[1;33m,\u001b[0m \u001b[0merrors\u001b[0m\u001b[1;33m=\u001b[0m\u001b[0merrors\u001b[0m\u001b[1;33m)\u001b[0m\u001b[1;33m\u001b[0m\u001b[1;33m\u001b[0m\u001b[0m\n\u001b[0m\u001b[0;32m    446\u001b[0m \u001b[1;33m\u001b[0m\u001b[0m\n\u001b[0;32m    447\u001b[0m     def convert(\n",
      "\u001b[1;32m~\\anaconda3\\lib\\site-packages\\pandas\\core\\internals\\managers.py\u001b[0m in \u001b[0;36mapply\u001b[1;34m(self, f, align_keys, ignore_failures, **kwargs)\u001b[0m\n\u001b[0;32m    345\u001b[0m                     \u001b[0mapplied\u001b[0m \u001b[1;33m=\u001b[0m \u001b[0mb\u001b[0m\u001b[1;33m.\u001b[0m\u001b[0mapply\u001b[0m\u001b[1;33m(\u001b[0m\u001b[0mf\u001b[0m\u001b[1;33m,\u001b[0m \u001b[1;33m**\u001b[0m\u001b[0mkwargs\u001b[0m\u001b[1;33m)\u001b[0m\u001b[1;33m\u001b[0m\u001b[1;33m\u001b[0m\u001b[0m\n\u001b[0;32m    346\u001b[0m                 \u001b[1;32melse\u001b[0m\u001b[1;33m:\u001b[0m\u001b[1;33m\u001b[0m\u001b[1;33m\u001b[0m\u001b[0m\n\u001b[1;32m--> 347\u001b[1;33m                     \u001b[0mapplied\u001b[0m \u001b[1;33m=\u001b[0m \u001b[0mgetattr\u001b[0m\u001b[1;33m(\u001b[0m\u001b[0mb\u001b[0m\u001b[1;33m,\u001b[0m \u001b[0mf\u001b[0m\u001b[1;33m)\u001b[0m\u001b[1;33m(\u001b[0m\u001b[1;33m**\u001b[0m\u001b[0mkwargs\u001b[0m\u001b[1;33m)\u001b[0m\u001b[1;33m\u001b[0m\u001b[1;33m\u001b[0m\u001b[0m\n\u001b[0m\u001b[0;32m    348\u001b[0m             \u001b[1;32mexcept\u001b[0m \u001b[1;33m(\u001b[0m\u001b[0mTypeError\u001b[0m\u001b[1;33m,\u001b[0m \u001b[0mNotImplementedError\u001b[0m\u001b[1;33m)\u001b[0m\u001b[1;33m:\u001b[0m\u001b[1;33m\u001b[0m\u001b[1;33m\u001b[0m\u001b[0m\n\u001b[0;32m    349\u001b[0m                 \u001b[1;32mif\u001b[0m \u001b[1;32mnot\u001b[0m \u001b[0mignore_failures\u001b[0m\u001b[1;33m:\u001b[0m\u001b[1;33m\u001b[0m\u001b[1;33m\u001b[0m\u001b[0m\n",
      "\u001b[1;32m~\\anaconda3\\lib\\site-packages\\pandas\\core\\internals\\blocks.py\u001b[0m in \u001b[0;36mastype\u001b[1;34m(self, dtype, copy, errors)\u001b[0m\n\u001b[0;32m    524\u001b[0m         \u001b[0mvalues\u001b[0m \u001b[1;33m=\u001b[0m \u001b[0mself\u001b[0m\u001b[1;33m.\u001b[0m\u001b[0mvalues\u001b[0m\u001b[1;33m\u001b[0m\u001b[1;33m\u001b[0m\u001b[0m\n\u001b[0;32m    525\u001b[0m \u001b[1;33m\u001b[0m\u001b[0m\n\u001b[1;32m--> 526\u001b[1;33m         \u001b[0mnew_values\u001b[0m \u001b[1;33m=\u001b[0m \u001b[0mastype_array_safe\u001b[0m\u001b[1;33m(\u001b[0m\u001b[0mvalues\u001b[0m\u001b[1;33m,\u001b[0m \u001b[0mdtype\u001b[0m\u001b[1;33m,\u001b[0m \u001b[0mcopy\u001b[0m\u001b[1;33m=\u001b[0m\u001b[0mcopy\u001b[0m\u001b[1;33m,\u001b[0m \u001b[0merrors\u001b[0m\u001b[1;33m=\u001b[0m\u001b[0merrors\u001b[0m\u001b[1;33m)\u001b[0m\u001b[1;33m\u001b[0m\u001b[1;33m\u001b[0m\u001b[0m\n\u001b[0m\u001b[0;32m    527\u001b[0m \u001b[1;33m\u001b[0m\u001b[0m\n\u001b[0;32m    528\u001b[0m         \u001b[0mnew_values\u001b[0m \u001b[1;33m=\u001b[0m \u001b[0mmaybe_coerce_values\u001b[0m\u001b[1;33m(\u001b[0m\u001b[0mnew_values\u001b[0m\u001b[1;33m)\u001b[0m\u001b[1;33m\u001b[0m\u001b[1;33m\u001b[0m\u001b[0m\n",
      "\u001b[1;32m~\\anaconda3\\lib\\site-packages\\pandas\\core\\dtypes\\astype.py\u001b[0m in \u001b[0;36mastype_array_safe\u001b[1;34m(values, dtype, copy, errors)\u001b[0m\n\u001b[0;32m    297\u001b[0m \u001b[1;33m\u001b[0m\u001b[0m\n\u001b[0;32m    298\u001b[0m     \u001b[1;32mtry\u001b[0m\u001b[1;33m:\u001b[0m\u001b[1;33m\u001b[0m\u001b[1;33m\u001b[0m\u001b[0m\n\u001b[1;32m--> 299\u001b[1;33m         \u001b[0mnew_values\u001b[0m \u001b[1;33m=\u001b[0m \u001b[0mastype_array\u001b[0m\u001b[1;33m(\u001b[0m\u001b[0mvalues\u001b[0m\u001b[1;33m,\u001b[0m \u001b[0mdtype\u001b[0m\u001b[1;33m,\u001b[0m \u001b[0mcopy\u001b[0m\u001b[1;33m=\u001b[0m\u001b[0mcopy\u001b[0m\u001b[1;33m)\u001b[0m\u001b[1;33m\u001b[0m\u001b[1;33m\u001b[0m\u001b[0m\n\u001b[0m\u001b[0;32m    300\u001b[0m     \u001b[1;32mexcept\u001b[0m \u001b[1;33m(\u001b[0m\u001b[0mValueError\u001b[0m\u001b[1;33m,\u001b[0m \u001b[0mTypeError\u001b[0m\u001b[1;33m)\u001b[0m\u001b[1;33m:\u001b[0m\u001b[1;33m\u001b[0m\u001b[1;33m\u001b[0m\u001b[0m\n\u001b[0;32m    301\u001b[0m         \u001b[1;31m# e.g. astype_nansafe can fail on object-dtype of strings\u001b[0m\u001b[1;33m\u001b[0m\u001b[1;33m\u001b[0m\u001b[0m\n",
      "\u001b[1;32m~\\anaconda3\\lib\\site-packages\\pandas\\core\\dtypes\\astype.py\u001b[0m in \u001b[0;36mastype_array\u001b[1;34m(values, dtype, copy)\u001b[0m\n\u001b[0;32m    228\u001b[0m \u001b[1;33m\u001b[0m\u001b[0m\n\u001b[0;32m    229\u001b[0m     \u001b[1;32melse\u001b[0m\u001b[1;33m:\u001b[0m\u001b[1;33m\u001b[0m\u001b[1;33m\u001b[0m\u001b[0m\n\u001b[1;32m--> 230\u001b[1;33m         \u001b[0mvalues\u001b[0m \u001b[1;33m=\u001b[0m \u001b[0mastype_nansafe\u001b[0m\u001b[1;33m(\u001b[0m\u001b[0mvalues\u001b[0m\u001b[1;33m,\u001b[0m \u001b[0mdtype\u001b[0m\u001b[1;33m,\u001b[0m \u001b[0mcopy\u001b[0m\u001b[1;33m=\u001b[0m\u001b[0mcopy\u001b[0m\u001b[1;33m)\u001b[0m\u001b[1;33m\u001b[0m\u001b[1;33m\u001b[0m\u001b[0m\n\u001b[0m\u001b[0;32m    231\u001b[0m \u001b[1;33m\u001b[0m\u001b[0m\n\u001b[0;32m    232\u001b[0m     \u001b[1;31m# in pandas we don't store numpy str dtypes, so convert to object\u001b[0m\u001b[1;33m\u001b[0m\u001b[1;33m\u001b[0m\u001b[0m\n",
      "\u001b[1;32m~\\anaconda3\\lib\\site-packages\\pandas\\core\\dtypes\\astype.py\u001b[0m in \u001b[0;36mastype_nansafe\u001b[1;34m(arr, dtype, copy, skipna)\u001b[0m\n\u001b[0;32m    138\u001b[0m \u001b[1;33m\u001b[0m\u001b[0m\n\u001b[0;32m    139\u001b[0m     \u001b[1;32melif\u001b[0m \u001b[0mnp\u001b[0m\u001b[1;33m.\u001b[0m\u001b[0missubdtype\u001b[0m\u001b[1;33m(\u001b[0m\u001b[0marr\u001b[0m\u001b[1;33m.\u001b[0m\u001b[0mdtype\u001b[0m\u001b[1;33m,\u001b[0m \u001b[0mnp\u001b[0m\u001b[1;33m.\u001b[0m\u001b[0mfloating\u001b[0m\u001b[1;33m)\u001b[0m \u001b[1;32mand\u001b[0m \u001b[0mis_integer_dtype\u001b[0m\u001b[1;33m(\u001b[0m\u001b[0mdtype\u001b[0m\u001b[1;33m)\u001b[0m\u001b[1;33m:\u001b[0m\u001b[1;33m\u001b[0m\u001b[1;33m\u001b[0m\u001b[0m\n\u001b[1;32m--> 140\u001b[1;33m         \u001b[1;32mreturn\u001b[0m \u001b[0m_astype_float_to_int_nansafe\u001b[0m\u001b[1;33m(\u001b[0m\u001b[0marr\u001b[0m\u001b[1;33m,\u001b[0m \u001b[0mdtype\u001b[0m\u001b[1;33m,\u001b[0m \u001b[0mcopy\u001b[0m\u001b[1;33m)\u001b[0m\u001b[1;33m\u001b[0m\u001b[1;33m\u001b[0m\u001b[0m\n\u001b[0m\u001b[0;32m    141\u001b[0m \u001b[1;33m\u001b[0m\u001b[0m\n\u001b[0;32m    142\u001b[0m     \u001b[1;32melif\u001b[0m \u001b[0mis_object_dtype\u001b[0m\u001b[1;33m(\u001b[0m\u001b[0marr\u001b[0m\u001b[1;33m.\u001b[0m\u001b[0mdtype\u001b[0m\u001b[1;33m)\u001b[0m\u001b[1;33m:\u001b[0m\u001b[1;33m\u001b[0m\u001b[1;33m\u001b[0m\u001b[0m\n",
      "\u001b[1;32m~\\anaconda3\\lib\\site-packages\\pandas\\core\\dtypes\\astype.py\u001b[0m in \u001b[0;36m_astype_float_to_int_nansafe\u001b[1;34m(values, dtype, copy)\u001b[0m\n\u001b[0;32m    180\u001b[0m     \"\"\"\n\u001b[0;32m    181\u001b[0m     \u001b[1;32mif\u001b[0m \u001b[1;32mnot\u001b[0m \u001b[0mnp\u001b[0m\u001b[1;33m.\u001b[0m\u001b[0misfinite\u001b[0m\u001b[1;33m(\u001b[0m\u001b[0mvalues\u001b[0m\u001b[1;33m)\u001b[0m\u001b[1;33m.\u001b[0m\u001b[0mall\u001b[0m\u001b[1;33m(\u001b[0m\u001b[1;33m)\u001b[0m\u001b[1;33m:\u001b[0m\u001b[1;33m\u001b[0m\u001b[1;33m\u001b[0m\u001b[0m\n\u001b[1;32m--> 182\u001b[1;33m         raise IntCastingNaNError(\n\u001b[0m\u001b[0;32m    183\u001b[0m             \u001b[1;34m\"Cannot convert non-finite values (NA or inf) to integer\"\u001b[0m\u001b[1;33m\u001b[0m\u001b[1;33m\u001b[0m\u001b[0m\n\u001b[0;32m    184\u001b[0m         )\n",
      "\u001b[1;31mIntCastingNaNError\u001b[0m: Cannot convert non-finite values (NA or inf) to integer"
     ]
    }
   ],
   "source": [
    "submission = df_subm.astype(int)"
   ]
  },
  {
   "cell_type": "code",
   "execution_count": null,
   "id": "23c66c9b",
   "metadata": {},
   "outputs": [],
   "source": [
    "submission.to_csv(\"submission777.csv\")"
   ]
  },
  {
   "cell_type": "code",
   "execution_count": null,
   "id": "ff4ad540",
   "metadata": {},
   "outputs": [],
   "source": [
    "randomForest_model = RandomForestClassifier(random_state=42,class_weight='balanced_subsample')\n",
    "params = {\"n_estimators\":[200,300,500,1000],\n",
    "             \"max_features\":[3,5,7,9,10],\n",
    "             \"min_samples_split\":[2,5,10,20,30]}\n",
    "\n",
    "randomForest_cv_model = GridSearchCV(randomForest_model,cv=5,param_grid=params,n_jobs=-1).fit(X_train,y_train)\n",
    "print(randomForest_cv_model.best_params_)"
   ]
  },
  {
   "cell_type": "code",
   "execution_count": null,
   "id": "e4d682ac",
   "metadata": {},
   "outputs": [],
   "source": [
    "final_randomForest_model = RandomForestClassifier(n_estimators=500,class_weight='balanced_subsample',max_features=7,min_samples_split=2,random_state=42).fit(X_train,y_train)"
   ]
  },
  {
   "cell_type": "code",
   "execution_count": null,
   "id": "e97201b8",
   "metadata": {},
   "outputs": [],
   "source": [
    "predicted=final_randomForest_model.predict(X_test)\n",
    "score = accuracy_score(y_test,predicted)\n",
    "print(\"Score is: %{:.1f}\".format(score*100))  "
   ]
  },
  {
   "cell_type": "code",
   "execution_count": null,
   "id": "68dc7bc5",
   "metadata": {},
   "outputs": [],
   "source": [
    "predicted = final_randomForest_model.predict(df_test)"
   ]
  },
  {
   "cell_type": "code",
   "execution_count": null,
   "id": "ea272a97",
   "metadata": {},
   "outputs": [],
   "source": [
    "df_subm.loc[:,\"moved_after_2019\"] = predicted\n",
    "submission = df_subm.astype(int)\n",
    "submission.to_csv(\"submission778.csv\")"
   ]
  },
  {
   "cell_type": "code",
   "execution_count": null,
   "id": "5ac4e815",
   "metadata": {},
   "outputs": [],
   "source": []
  }
 ],
 "metadata": {
  "kernelspec": {
   "display_name": "Python 3 (ipykernel)",
   "language": "python",
   "name": "python3"
  },
  "language_info": {
   "codemirror_mode": {
    "name": "ipython",
    "version": 3
   },
   "file_extension": ".py",
   "mimetype": "text/x-python",
   "name": "python",
   "nbconvert_exporter": "python",
   "pygments_lexer": "ipython3",
   "version": "3.9.15"
  },
  "papermill": {
   "default_parameters": {},
   "duration": 46.156706,
   "end_time": "2023-02-21T08:20:37.378512",
   "environment_variables": {},
   "exception": null,
   "input_path": "__notebook__.ipynb",
   "output_path": "__notebook__.ipynb",
   "parameters": {},
   "start_time": "2023-02-21T08:19:51.221806",
   "version": "2.3.4"
  },
  "varInspector": {
   "cols": {
    "lenName": 16,
    "lenType": 16,
    "lenVar": 40
   },
   "kernels_config": {
    "python": {
     "delete_cmd_postfix": "",
     "delete_cmd_prefix": "del ",
     "library": "var_list.py",
     "varRefreshCmd": "print(var_dic_list())"
    },
    "r": {
     "delete_cmd_postfix": ") ",
     "delete_cmd_prefix": "rm(",
     "library": "var_list.r",
     "varRefreshCmd": "cat(var_dic_list()) "
    }
   },
   "types_to_exclude": [
    "module",
    "function",
    "builtin_function_or_method",
    "instance",
    "_Feature"
   ],
   "window_display": false
  }
 },
 "nbformat": 4,
 "nbformat_minor": 5
}
